{
  "cells": [
    {
      "cell_type": "code",
      "execution_count": null,
      "metadata": {
        "id": "qOO_PawwF2tI"
      },
      "outputs": [],
      "source": [
        "import pandas as pd\n",
        "import numpy as np\n",
        "import json\n",
        "import nltk\n",
        "import re\n",
        "import csv\n",
        "import matplotlib.pyplot as plt\n",
        "import seaborn as sns\n",
        "from tqdm import tqdm\n",
        "from sklearn.feature_extraction.text import TfidfVectorizer\n",
        "from sklearn.model_selection import train_test_split\n",
        "\n",
        "%matplotlib inline\n",
        "pd.set_option('display.max_colwidth', 300)"
      ]
    },
    {
      "cell_type": "code",
      "execution_count": null,
      "metadata": {
        "id": "pZ5z5yrvGHty"
      },
      "outputs": [],
      "source": [
        "from google.colab import drive\n",
        "drive.mount('/content/drive')"
      ]
    },
    {
      "cell_type": "code",
      "execution_count": null,
      "metadata": {
        "id": "yxCPm8R6F2tY"
      },
      "outputs": [],
      "source": [
        "file_path = \"/content/drive/My Drive/AV Articles/movie_genre/movie.metadata.tsv\"\n",
        "meta = pd.read_csv(file_path, sep = '\\t', header = None)"
      ]
    },
    {
      "cell_type": "code",
      "execution_count": null,
      "metadata": {
        "colab": {
          "base_uri": "https://localhost:8080/",
          "height": 467
        },
        "id": "yX6AN95xF2tg",
        "outputId": "f2398dc6-b7e7-4b4b-8c17-67cb1e8d9d1b"
      },
      "outputs": [
        {
          "data": {
            "text/html": [
              "<div>\n",
              "<style scoped>\n",
              "    .dataframe tbody tr th:only-of-type {\n",
              "        vertical-align: middle;\n",
              "    }\n",
              "\n",
              "    .dataframe tbody tr th {\n",
              "        vertical-align: top;\n",
              "    }\n",
              "\n",
              "    .dataframe thead th {\n",
              "        text-align: right;\n",
              "    }\n",
              "</style>\n",
              "<table border=\"1\" class=\"dataframe\">\n",
              "  <thead>\n",
              "    <tr style=\"text-align: right;\">\n",
              "      <th></th>\n",
              "      <th>0</th>\n",
              "      <th>1</th>\n",
              "      <th>2</th>\n",
              "      <th>3</th>\n",
              "      <th>4</th>\n",
              "      <th>5</th>\n",
              "      <th>6</th>\n",
              "      <th>7</th>\n",
              "      <th>8</th>\n",
              "    </tr>\n",
              "  </thead>\n",
              "  <tbody>\n",
              "    <tr>\n",
              "      <th>0</th>\n",
              "      <td>975900</td>\n",
              "      <td>/m/03vyhn</td>\n",
              "      <td>Ghosts of Mars</td>\n",
              "      <td>2001-08-24</td>\n",
              "      <td>14010832.0</td>\n",
              "      <td>98.0</td>\n",
              "      <td>{\"/m/02h40lc\": \"English Language\"}</td>\n",
              "      <td>{\"/m/09c7w0\": \"United States of America\"}</td>\n",
              "      <td>{\"/m/01jfsb\": \"Thriller\", \"/m/06n90\": \"Science Fiction\", \"/m/03npn\": \"Horror\", \"/m/03k9fj\": \"Adventure\", \"/m/0fdjb\": \"Supernatural\", \"/m/02kdv5l\": \"Action\", \"/m/09zvmj\": \"Space western\"}</td>\n",
              "    </tr>\n",
              "    <tr>\n",
              "      <th>1</th>\n",
              "      <td>3196793</td>\n",
              "      <td>/m/08yl5d</td>\n",
              "      <td>Getting Away with Murder: The JonBenét Ramsey Mystery</td>\n",
              "      <td>2000-02-16</td>\n",
              "      <td>NaN</td>\n",
              "      <td>95.0</td>\n",
              "      <td>{\"/m/02h40lc\": \"English Language\"}</td>\n",
              "      <td>{\"/m/09c7w0\": \"United States of America\"}</td>\n",
              "      <td>{\"/m/02n4kr\": \"Mystery\", \"/m/03bxz7\": \"Biographical film\", \"/m/07s9rl0\": \"Drama\", \"/m/0hj3n01\": \"Crime Drama\"}</td>\n",
              "    </tr>\n",
              "    <tr>\n",
              "      <th>2</th>\n",
              "      <td>28463795</td>\n",
              "      <td>/m/0crgdbh</td>\n",
              "      <td>Brun bitter</td>\n",
              "      <td>1988</td>\n",
              "      <td>NaN</td>\n",
              "      <td>83.0</td>\n",
              "      <td>{\"/m/05f_3\": \"Norwegian Language\"}</td>\n",
              "      <td>{\"/m/05b4w\": \"Norway\"}</td>\n",
              "      <td>{\"/m/0lsxr\": \"Crime Fiction\", \"/m/07s9rl0\": \"Drama\"}</td>\n",
              "    </tr>\n",
              "    <tr>\n",
              "      <th>3</th>\n",
              "      <td>9363483</td>\n",
              "      <td>/m/0285_cd</td>\n",
              "      <td>White Of The Eye</td>\n",
              "      <td>1987</td>\n",
              "      <td>NaN</td>\n",
              "      <td>110.0</td>\n",
              "      <td>{\"/m/02h40lc\": \"English Language\"}</td>\n",
              "      <td>{\"/m/07ssc\": \"United Kingdom\"}</td>\n",
              "      <td>{\"/m/01jfsb\": \"Thriller\", \"/m/0glj9q\": \"Erotic thriller\", \"/m/09blyk\": \"Psychological thriller\"}</td>\n",
              "    </tr>\n",
              "    <tr>\n",
              "      <th>4</th>\n",
              "      <td>261236</td>\n",
              "      <td>/m/01mrr1</td>\n",
              "      <td>A Woman in Flames</td>\n",
              "      <td>1983</td>\n",
              "      <td>NaN</td>\n",
              "      <td>106.0</td>\n",
              "      <td>{\"/m/04306rv\": \"German Language\"}</td>\n",
              "      <td>{\"/m/0345h\": \"Germany\"}</td>\n",
              "      <td>{\"/m/07s9rl0\": \"Drama\"}</td>\n",
              "    </tr>\n",
              "  </tbody>\n",
              "</table>\n",
              "</div>"
            ],
            "text/plain": [
              "          0           1  \\\n",
              "0    975900   /m/03vyhn   \n",
              "1   3196793   /m/08yl5d   \n",
              "2  28463795  /m/0crgdbh   \n",
              "3   9363483  /m/0285_cd   \n",
              "4    261236   /m/01mrr1   \n",
              "\n",
              "                                                       2           3  \\\n",
              "0                                         Ghosts of Mars  2001-08-24   \n",
              "1  Getting Away with Murder: The JonBenét Ramsey Mystery  2000-02-16   \n",
              "2                                            Brun bitter        1988   \n",
              "3                                       White Of The Eye        1987   \n",
              "4                                      A Woman in Flames        1983   \n",
              "\n",
              "            4      5                                   6  \\\n",
              "0  14010832.0   98.0  {\"/m/02h40lc\": \"English Language\"}   \n",
              "1         NaN   95.0  {\"/m/02h40lc\": \"English Language\"}   \n",
              "2         NaN   83.0  {\"/m/05f_3\": \"Norwegian Language\"}   \n",
              "3         NaN  110.0  {\"/m/02h40lc\": \"English Language\"}   \n",
              "4         NaN  106.0   {\"/m/04306rv\": \"German Language\"}   \n",
              "\n",
              "                                           7  \\\n",
              "0  {\"/m/09c7w0\": \"United States of America\"}   \n",
              "1  {\"/m/09c7w0\": \"United States of America\"}   \n",
              "2                     {\"/m/05b4w\": \"Norway\"}   \n",
              "3             {\"/m/07ssc\": \"United Kingdom\"}   \n",
              "4                    {\"/m/0345h\": \"Germany\"}   \n",
              "\n",
              "                                                                                                                                                                                            8  \n",
              "0  {\"/m/01jfsb\": \"Thriller\", \"/m/06n90\": \"Science Fiction\", \"/m/03npn\": \"Horror\", \"/m/03k9fj\": \"Adventure\", \"/m/0fdjb\": \"Supernatural\", \"/m/02kdv5l\": \"Action\", \"/m/09zvmj\": \"Space western\"}  \n",
              "1                                                                              {\"/m/02n4kr\": \"Mystery\", \"/m/03bxz7\": \"Biographical film\", \"/m/07s9rl0\": \"Drama\", \"/m/0hj3n01\": \"Crime Drama\"}  \n",
              "2                                                                                                                                        {\"/m/0lsxr\": \"Crime Fiction\", \"/m/07s9rl0\": \"Drama\"}  \n",
              "3                                                                                            {\"/m/01jfsb\": \"Thriller\", \"/m/0glj9q\": \"Erotic thriller\", \"/m/09blyk\": \"Psychological thriller\"}  \n",
              "4                                                                                                                                                                     {\"/m/07s9rl0\": \"Drama\"}  "
            ]
          },
          "execution_count": 5,
          "metadata": {
            "tags": []
          },
          "output_type": "execute_result"
        }
      ],
      "source": [
        "meta.head()"
      ]
    },
    {
      "cell_type": "code",
      "execution_count": null,
      "metadata": {
        "id": "IpkDwG6aF2tv"
      },
      "outputs": [],
      "source": [
        "# rename columns\n",
        "meta.columns = [\"movie_id\",1,\"movie_name\",3,4,5,6,7,\"genre\"]"
      ]
    },
    {
      "cell_type": "code",
      "execution_count": null,
      "metadata": {
        "colab": {
          "base_uri": "https://localhost:8080/",
          "height": 34
        },
        "id": "hbIk6pavF2t1",
        "outputId": "9ac89ce3-2fb9-43d6-eeae-06a2f9596487"
      },
      "outputs": [
        {
          "name": "stderr",
          "output_type": "stream",
          "text": [
            "42303it [00:04, 8812.80it/s]\n"
          ]
        }
      ],
      "source": [
        "file_path_2 = \"/content/drive/My Drive/AV Articles/movie_genre/plot_summaries.txt\"\n",
        "plots = []\n",
        "\n",
        "with open(file_path_2, 'r') as f:\n",
        "    reader = csv.reader(f, dialect='excel-tab')\n",
        "    for row in tqdm(reader):\n",
        "        plots.append(row)"
      ]
    },
    {
      "cell_type": "code",
      "execution_count": null,
      "metadata": {
        "colab": {
          "base_uri": "https://localhost:8080/",
          "height": 34
        },
        "id": "byVd2f7iF2t-",
        "outputId": "88f8488e-a21a-4760-a19c-8119eb51b4e3"
      },
      "outputs": [
        {
          "name": "stderr",
          "output_type": "stream",
          "text": [
            "100%|██████████| 42303/42303 [00:00<00:00, 902808.39it/s]\n"
          ]
        }
      ],
      "source": [
        "movie_id = []\n",
        "plot = []\n",
        "\n",
        "for i in tqdm(plots):\n",
        "    movie_id.append(i[0])\n",
        "    plot.append(i[1])"
      ]
    },
    {
      "cell_type": "code",
      "execution_count": null,
      "metadata": {
        "id": "QDjWvm8DF2uG"
      },
      "outputs": [],
      "source": [
        "movies = pd.DataFrame({'movie_id': movie_id, 'plot': plot})"
      ]
    },
    {
      "cell_type": "code",
      "execution_count": null,
      "metadata": {
        "colab": {
          "base_uri": "https://localhost:8080/",
          "height": 363
        },
        "id": "d4ERWvrTF2uN",
        "outputId": "c4648869-0412-4cf1-8e36-d104410f92eb"
      },
      "outputs": [
        {
          "data": {
            "text/html": [
              "<div>\n",
              "<style scoped>\n",
              "    .dataframe tbody tr th:only-of-type {\n",
              "        vertical-align: middle;\n",
              "    }\n",
              "\n",
              "    .dataframe tbody tr th {\n",
              "        vertical-align: top;\n",
              "    }\n",
              "\n",
              "    .dataframe thead th {\n",
              "        text-align: right;\n",
              "    }\n",
              "</style>\n",
              "<table border=\"1\" class=\"dataframe\">\n",
              "  <thead>\n",
              "    <tr style=\"text-align: right;\">\n",
              "      <th></th>\n",
              "      <th>movie_id</th>\n",
              "      <th>plot</th>\n",
              "    </tr>\n",
              "  </thead>\n",
              "  <tbody>\n",
              "    <tr>\n",
              "      <th>0</th>\n",
              "      <td>23890098</td>\n",
              "      <td>Shlykov, a hard-working taxi driver and Lyosha, a saxophonist, develop a bizarre love-hate relationship, and despite their prejudices, realize they aren't so different after all.</td>\n",
              "    </tr>\n",
              "    <tr>\n",
              "      <th>1</th>\n",
              "      <td>31186339</td>\n",
              "      <td>The nation of Panem consists of a wealthy Capitol and twelve poorer districts. As punishment for a past rebellion, each district must provide a boy and girl  between the ages of 12 and 18 selected by lottery  for the annual Hunger Games. The tributes must fight to the death in an arena; the sole...</td>\n",
              "    </tr>\n",
              "    <tr>\n",
              "      <th>2</th>\n",
              "      <td>20663735</td>\n",
              "      <td>Poovalli Induchoodan  is sentenced for six years prison life for murdering his classmate. Induchoodan, the only son of Justice Maranchery Karunakara Menon  was framed in the case by Manapally Madhavan Nambiar  and his crony DYSP Sankaranarayanan  to take revenge on idealist judge Menon who had e...</td>\n",
              "    </tr>\n",
              "    <tr>\n",
              "      <th>3</th>\n",
              "      <td>2231378</td>\n",
              "      <td>The Lemon Drop Kid , a New York City swindler, is illegally touting horses at a Florida racetrack. After several successful hustles, the Kid comes across a beautiful, but gullible, woman intending to bet a lot of money. The Kid convinces her to switch her bet, employing a prefabricated con. Unfo...</td>\n",
              "    </tr>\n",
              "    <tr>\n",
              "      <th>4</th>\n",
              "      <td>595909</td>\n",
              "      <td>Seventh-day Adventist Church pastor Michael Chamberlain, his wife Lindy, their two sons, and their nine-week-old daughter Azaria are on a camping holiday in the Outback. With the baby sleeping in their tent, the family is enjoying a barbecue with their fellow campers when a cry is heard. Lindy r...</td>\n",
              "    </tr>\n",
              "  </tbody>\n",
              "</table>\n",
              "</div>"
            ],
            "text/plain": [
              "   movie_id  \\\n",
              "0  23890098   \n",
              "1  31186339   \n",
              "2  20663735   \n",
              "3   2231378   \n",
              "4    595909   \n",
              "\n",
              "                                                                                                                                                                                                                                                                                                          plot  \n",
              "0                                                                                                                           Shlykov, a hard-working taxi driver and Lyosha, a saxophonist, develop a bizarre love-hate relationship, and despite their prejudices, realize they aren't so different after all.  \n",
              "1  The nation of Panem consists of a wealthy Capitol and twelve poorer districts. As punishment for a past rebellion, each district must provide a boy and girl  between the ages of 12 and 18 selected by lottery  for the annual Hunger Games. The tributes must fight to the death in an arena; the sole...  \n",
              "2  Poovalli Induchoodan  is sentenced for six years prison life for murdering his classmate. Induchoodan, the only son of Justice Maranchery Karunakara Menon  was framed in the case by Manapally Madhavan Nambiar  and his crony DYSP Sankaranarayanan  to take revenge on idealist judge Menon who had e...  \n",
              "3  The Lemon Drop Kid , a New York City swindler, is illegally touting horses at a Florida racetrack. After several successful hustles, the Kid comes across a beautiful, but gullible, woman intending to bet a lot of money. The Kid convinces her to switch her bet, employing a prefabricated con. Unfo...  \n",
              "4  Seventh-day Adventist Church pastor Michael Chamberlain, his wife Lindy, their two sons, and their nine-week-old daughter Azaria are on a camping holiday in the Outback. With the baby sleeping in their tent, the family is enjoying a barbecue with their fellow campers when a cry is heard. Lindy r...  "
            ]
          },
          "execution_count": 10,
          "metadata": {
            "tags": []
          },
          "output_type": "execute_result"
        }
      ],
      "source": [
        "movies.head()"
      ]
    },
    {
      "cell_type": "code",
      "execution_count": null,
      "metadata": {
        "id": "0cSwigsOF2ul"
      },
      "outputs": [],
      "source": [
        "# change datatype of 'movie_id'\n",
        "meta['movie_id'] = meta['movie_id'].astype(str)\n",
        "\n",
        "# merge meta with movies\n",
        "movies = pd.merge(movies, meta[['movie_id', 'movie_name', 'genre']], on = 'movie_id')"
      ]
    },
    {
      "cell_type": "code",
      "execution_count": null,
      "metadata": {
        "colab": {
          "base_uri": "https://localhost:8080/",
          "height": 449
        },
        "id": "LbI2smHLF2uv",
        "outputId": "ac65fdd9-4b95-4da1-899a-57f068c30b09"
      },
      "outputs": [
        {
          "data": {
            "text/html": [
              "<div>\n",
              "<style scoped>\n",
              "    .dataframe tbody tr th:only-of-type {\n",
              "        vertical-align: middle;\n",
              "    }\n",
              "\n",
              "    .dataframe tbody tr th {\n",
              "        vertical-align: top;\n",
              "    }\n",
              "\n",
              "    .dataframe thead th {\n",
              "        text-align: right;\n",
              "    }\n",
              "</style>\n",
              "<table border=\"1\" class=\"dataframe\">\n",
              "  <thead>\n",
              "    <tr style=\"text-align: right;\">\n",
              "      <th></th>\n",
              "      <th>movie_id</th>\n",
              "      <th>plot</th>\n",
              "      <th>movie_name</th>\n",
              "      <th>genre</th>\n",
              "    </tr>\n",
              "  </thead>\n",
              "  <tbody>\n",
              "    <tr>\n",
              "      <th>0</th>\n",
              "      <td>23890098</td>\n",
              "      <td>Shlykov, a hard-working taxi driver and Lyosha, a saxophonist, develop a bizarre love-hate relationship, and despite their prejudices, realize they aren't so different after all.</td>\n",
              "      <td>Taxi Blues</td>\n",
              "      <td>{\"/m/07s9rl0\": \"Drama\", \"/m/03q4nz\": \"World cinema\"}</td>\n",
              "    </tr>\n",
              "    <tr>\n",
              "      <th>1</th>\n",
              "      <td>31186339</td>\n",
              "      <td>The nation of Panem consists of a wealthy Capitol and twelve poorer districts. As punishment for a past rebellion, each district must provide a boy and girl  between the ages of 12 and 18 selected by lottery  for the annual Hunger Games. The tributes must fight to the death in an arena; the sole...</td>\n",
              "      <td>The Hunger Games</td>\n",
              "      <td>{\"/m/03btsm8\": \"Action/Adventure\", \"/m/06n90\": \"Science Fiction\", \"/m/02kdv5l\": \"Action\", \"/m/07s9rl0\": \"Drama\"}</td>\n",
              "    </tr>\n",
              "    <tr>\n",
              "      <th>2</th>\n",
              "      <td>20663735</td>\n",
              "      <td>Poovalli Induchoodan  is sentenced for six years prison life for murdering his classmate. Induchoodan, the only son of Justice Maranchery Karunakara Menon  was framed in the case by Manapally Madhavan Nambiar  and his crony DYSP Sankaranarayanan  to take revenge on idealist judge Menon who had e...</td>\n",
              "      <td>Narasimham</td>\n",
              "      <td>{\"/m/04t36\": \"Musical\", \"/m/02kdv5l\": \"Action\", \"/m/07s9rl0\": \"Drama\", \"/m/01chg\": \"Bollywood\"}</td>\n",
              "    </tr>\n",
              "    <tr>\n",
              "      <th>3</th>\n",
              "      <td>2231378</td>\n",
              "      <td>The Lemon Drop Kid , a New York City swindler, is illegally touting horses at a Florida racetrack. After several successful hustles, the Kid comes across a beautiful, but gullible, woman intending to bet a lot of money. The Kid convinces her to switch her bet, employing a prefabricated con. Unfo...</td>\n",
              "      <td>The Lemon Drop Kid</td>\n",
              "      <td>{\"/m/06qm3\": \"Screwball comedy\", \"/m/01z4y\": \"Comedy\"}</td>\n",
              "    </tr>\n",
              "    <tr>\n",
              "      <th>4</th>\n",
              "      <td>595909</td>\n",
              "      <td>Seventh-day Adventist Church pastor Michael Chamberlain, his wife Lindy, their two sons, and their nine-week-old daughter Azaria are on a camping holiday in the Outback. With the baby sleeping in their tent, the family is enjoying a barbecue with their fellow campers when a cry is heard. Lindy r...</td>\n",
              "      <td>A Cry in the Dark</td>\n",
              "      <td>{\"/m/0lsxr\": \"Crime Fiction\", \"/m/07s9rl0\": \"Drama\", \"/m/01f9r0\": \"Docudrama\", \"/m/03q4nz\": \"World cinema\", \"/m/05bh16v\": \"Courtroom Drama\"}</td>\n",
              "    </tr>\n",
              "  </tbody>\n",
              "</table>\n",
              "</div>"
            ],
            "text/plain": [
              "   movie_id  \\\n",
              "0  23890098   \n",
              "1  31186339   \n",
              "2  20663735   \n",
              "3   2231378   \n",
              "4    595909   \n",
              "\n",
              "                                                                                                                                                                                                                                                                                                          plot  \\\n",
              "0                                                                                                                           Shlykov, a hard-working taxi driver and Lyosha, a saxophonist, develop a bizarre love-hate relationship, and despite their prejudices, realize they aren't so different after all.   \n",
              "1  The nation of Panem consists of a wealthy Capitol and twelve poorer districts. As punishment for a past rebellion, each district must provide a boy and girl  between the ages of 12 and 18 selected by lottery  for the annual Hunger Games. The tributes must fight to the death in an arena; the sole...   \n",
              "2  Poovalli Induchoodan  is sentenced for six years prison life for murdering his classmate. Induchoodan, the only son of Justice Maranchery Karunakara Menon  was framed in the case by Manapally Madhavan Nambiar  and his crony DYSP Sankaranarayanan  to take revenge on idealist judge Menon who had e...   \n",
              "3  The Lemon Drop Kid , a New York City swindler, is illegally touting horses at a Florida racetrack. After several successful hustles, the Kid comes across a beautiful, but gullible, woman intending to bet a lot of money. The Kid convinces her to switch her bet, employing a prefabricated con. Unfo...   \n",
              "4  Seventh-day Adventist Church pastor Michael Chamberlain, his wife Lindy, their two sons, and their nine-week-old daughter Azaria are on a camping holiday in the Outback. With the baby sleeping in their tent, the family is enjoying a barbecue with their fellow campers when a cry is heard. Lindy r...   \n",
              "\n",
              "           movie_name  \\\n",
              "0          Taxi Blues   \n",
              "1    The Hunger Games   \n",
              "2          Narasimham   \n",
              "3  The Lemon Drop Kid   \n",
              "4   A Cry in the Dark   \n",
              "\n",
              "                                                                                                                                          genre  \n",
              "0                                                                                          {\"/m/07s9rl0\": \"Drama\", \"/m/03q4nz\": \"World cinema\"}  \n",
              "1                              {\"/m/03btsm8\": \"Action/Adventure\", \"/m/06n90\": \"Science Fiction\", \"/m/02kdv5l\": \"Action\", \"/m/07s9rl0\": \"Drama\"}  \n",
              "2                                               {\"/m/04t36\": \"Musical\", \"/m/02kdv5l\": \"Action\", \"/m/07s9rl0\": \"Drama\", \"/m/01chg\": \"Bollywood\"}  \n",
              "3                                                                                        {\"/m/06qm3\": \"Screwball comedy\", \"/m/01z4y\": \"Comedy\"}  \n",
              "4  {\"/m/0lsxr\": \"Crime Fiction\", \"/m/07s9rl0\": \"Drama\", \"/m/01f9r0\": \"Docudrama\", \"/m/03q4nz\": \"World cinema\", \"/m/05bh16v\": \"Courtroom Drama\"}  "
            ]
          },
          "execution_count": 12,
          "metadata": {
            "tags": []
          },
          "output_type": "execute_result"
        }
      ],
      "source": [
        "movies.head()"
      ]
    },
    {
      "cell_type": "code",
      "execution_count": null,
      "metadata": {
        "colab": {
          "base_uri": "https://localhost:8080/",
          "height": 34
        },
        "id": "qlnt5G_R-2pV",
        "outputId": "d14ee922-0c2f-4493-b8e4-43541c6250f5"
      },
      "outputs": [
        {
          "data": {
            "text/plain": [
              "'{\"/m/07s9rl0\": \"Drama\", \"/m/03q4nz\": \"World cinema\"}'"
            ]
          },
          "execution_count": 13,
          "metadata": {
            "tags": []
          },
          "output_type": "execute_result"
        }
      ],
      "source": [
        "movies['genre'][0]"
      ]
    },
    {
      "cell_type": "code",
      "execution_count": null,
      "metadata": {
        "colab": {
          "base_uri": "https://localhost:8080/",
          "height": 34
        },
        "id": "23Bc7e8CBiFq",
        "outputId": "e0c62f0e-e81f-43ff-d66b-1f06195253f0"
      },
      "outputs": [
        {
          "data": {
            "text/plain": [
              "dict"
            ]
          },
          "execution_count": 14,
          "metadata": {
            "tags": []
          },
          "output_type": "execute_result"
        }
      ],
      "source": [
        "type(json.loads(movies['genre'][0]))"
      ]
    },
    {
      "cell_type": "code",
      "execution_count": null,
      "metadata": {
        "colab": {
          "base_uri": "https://localhost:8080/",
          "height": 34
        },
        "id": "Gt2dIkjtBssn",
        "outputId": "8721e1a8-ba9c-4de5-c450-deff64968a25"
      },
      "outputs": [
        {
          "data": {
            "text/plain": [
              "dict_values(['Drama', 'World cinema'])"
            ]
          },
          "execution_count": 15,
          "metadata": {
            "tags": []
          },
          "output_type": "execute_result"
        }
      ],
      "source": [
        "json.loads(movies['genre'][0]).values()"
      ]
    },
    {
      "cell_type": "code",
      "execution_count": null,
      "metadata": {
        "id": "uEBK8BuAF2u5"
      },
      "outputs": [],
      "source": [
        "genres = []\n",
        "\n",
        "for i in movies['genre']:\n",
        "  genres.append(list(json.loads(i).values()))\n",
        "\n",
        "movies['genre_new'] = genres"
      ]
    },
    {
      "cell_type": "code",
      "execution_count": null,
      "metadata": {
        "id": "j35tpku5F2vH"
      },
      "outputs": [],
      "source": [
        "# remove samples with 0 genre tags\n",
        "movies_new = movies[~(movies['genre_new'].str.len() == 0)]"
      ]
    },
    {
      "cell_type": "code",
      "execution_count": null,
      "metadata": {
        "colab": {
          "base_uri": "https://localhost:8080/",
          "height": 34
        },
        "id": "uUhJFakkF2vL",
        "outputId": "2c9ed72a-bc27-4c1b-da6b-48a4ae45d5d0"
      },
      "outputs": [
        {
          "data": {
            "text/plain": [
              "((41793, 5), (42204, 5))"
            ]
          },
          "execution_count": 18,
          "metadata": {
            "tags": []
          },
          "output_type": "execute_result"
        }
      ],
      "source": [
        "movies_new.shape, movies.shape"
      ]
    },
    {
      "cell_type": "code",
      "execution_count": null,
      "metadata": {
        "colab": {
          "base_uri": "https://localhost:8080/",
          "height": 571
        },
        "id": "1DYW05vvF2vU",
        "outputId": "c9337396-c00d-4049-d87a-fdd51e24fad2"
      },
      "outputs": [
        {
          "data": {
            "text/html": [
              "<div>\n",
              "<style scoped>\n",
              "    .dataframe tbody tr th:only-of-type {\n",
              "        vertical-align: middle;\n",
              "    }\n",
              "\n",
              "    .dataframe tbody tr th {\n",
              "        vertical-align: top;\n",
              "    }\n",
              "\n",
              "    .dataframe thead th {\n",
              "        text-align: right;\n",
              "    }\n",
              "</style>\n",
              "<table border=\"1\" class=\"dataframe\">\n",
              "  <thead>\n",
              "    <tr style=\"text-align: right;\">\n",
              "      <th></th>\n",
              "      <th>movie_id</th>\n",
              "      <th>plot</th>\n",
              "      <th>movie_name</th>\n",
              "      <th>genre</th>\n",
              "      <th>genre_new</th>\n",
              "    </tr>\n",
              "  </thead>\n",
              "  <tbody>\n",
              "    <tr>\n",
              "      <th>0</th>\n",
              "      <td>23890098</td>\n",
              "      <td>Shlykov, a hard-working taxi driver and Lyosha, a saxophonist, develop a bizarre love-hate relationship, and despite their prejudices, realize they aren't so different after all.</td>\n",
              "      <td>Taxi Blues</td>\n",
              "      <td>{\"/m/07s9rl0\": \"Drama\", \"/m/03q4nz\": \"World cinema\"}</td>\n",
              "      <td>[Drama, World cinema]</td>\n",
              "    </tr>\n",
              "    <tr>\n",
              "      <th>1</th>\n",
              "      <td>31186339</td>\n",
              "      <td>The nation of Panem consists of a wealthy Capitol and twelve poorer districts. As punishment for a past rebellion, each district must provide a boy and girl  between the ages of 12 and 18 selected by lottery  for the annual Hunger Games. The tributes must fight to the death in an arena; the sole...</td>\n",
              "      <td>The Hunger Games</td>\n",
              "      <td>{\"/m/03btsm8\": \"Action/Adventure\", \"/m/06n90\": \"Science Fiction\", \"/m/02kdv5l\": \"Action\", \"/m/07s9rl0\": \"Drama\"}</td>\n",
              "      <td>[Action/Adventure, Science Fiction, Action, Drama]</td>\n",
              "    </tr>\n",
              "    <tr>\n",
              "      <th>2</th>\n",
              "      <td>20663735</td>\n",
              "      <td>Poovalli Induchoodan  is sentenced for six years prison life for murdering his classmate. Induchoodan, the only son of Justice Maranchery Karunakara Menon  was framed in the case by Manapally Madhavan Nambiar  and his crony DYSP Sankaranarayanan  to take revenge on idealist judge Menon who had e...</td>\n",
              "      <td>Narasimham</td>\n",
              "      <td>{\"/m/04t36\": \"Musical\", \"/m/02kdv5l\": \"Action\", \"/m/07s9rl0\": \"Drama\", \"/m/01chg\": \"Bollywood\"}</td>\n",
              "      <td>[Musical, Action, Drama, Bollywood]</td>\n",
              "    </tr>\n",
              "    <tr>\n",
              "      <th>3</th>\n",
              "      <td>2231378</td>\n",
              "      <td>The Lemon Drop Kid , a New York City swindler, is illegally touting horses at a Florida racetrack. After several successful hustles, the Kid comes across a beautiful, but gullible, woman intending to bet a lot of money. The Kid convinces her to switch her bet, employing a prefabricated con. Unfo...</td>\n",
              "      <td>The Lemon Drop Kid</td>\n",
              "      <td>{\"/m/06qm3\": \"Screwball comedy\", \"/m/01z4y\": \"Comedy\"}</td>\n",
              "      <td>[Screwball comedy, Comedy]</td>\n",
              "    </tr>\n",
              "    <tr>\n",
              "      <th>4</th>\n",
              "      <td>595909</td>\n",
              "      <td>Seventh-day Adventist Church pastor Michael Chamberlain, his wife Lindy, their two sons, and their nine-week-old daughter Azaria are on a camping holiday in the Outback. With the baby sleeping in their tent, the family is enjoying a barbecue with their fellow campers when a cry is heard. Lindy r...</td>\n",
              "      <td>A Cry in the Dark</td>\n",
              "      <td>{\"/m/0lsxr\": \"Crime Fiction\", \"/m/07s9rl0\": \"Drama\", \"/m/01f9r0\": \"Docudrama\", \"/m/03q4nz\": \"World cinema\", \"/m/05bh16v\": \"Courtroom Drama\"}</td>\n",
              "      <td>[Crime Fiction, Drama, Docudrama, World cinema, Courtroom Drama]</td>\n",
              "    </tr>\n",
              "  </tbody>\n",
              "</table>\n",
              "</div>"
            ],
            "text/plain": [
              "   movie_id  \\\n",
              "0  23890098   \n",
              "1  31186339   \n",
              "2  20663735   \n",
              "3   2231378   \n",
              "4    595909   \n",
              "\n",
              "                                                                                                                                                                                                                                                                                                          plot  \\\n",
              "0                                                                                                                           Shlykov, a hard-working taxi driver and Lyosha, a saxophonist, develop a bizarre love-hate relationship, and despite their prejudices, realize they aren't so different after all.   \n",
              "1  The nation of Panem consists of a wealthy Capitol and twelve poorer districts. As punishment for a past rebellion, each district must provide a boy and girl  between the ages of 12 and 18 selected by lottery  for the annual Hunger Games. The tributes must fight to the death in an arena; the sole...   \n",
              "2  Poovalli Induchoodan  is sentenced for six years prison life for murdering his classmate. Induchoodan, the only son of Justice Maranchery Karunakara Menon  was framed in the case by Manapally Madhavan Nambiar  and his crony DYSP Sankaranarayanan  to take revenge on idealist judge Menon who had e...   \n",
              "3  The Lemon Drop Kid , a New York City swindler, is illegally touting horses at a Florida racetrack. After several successful hustles, the Kid comes across a beautiful, but gullible, woman intending to bet a lot of money. The Kid convinces her to switch her bet, employing a prefabricated con. Unfo...   \n",
              "4  Seventh-day Adventist Church pastor Michael Chamberlain, his wife Lindy, their two sons, and their nine-week-old daughter Azaria are on a camping holiday in the Outback. With the baby sleeping in their tent, the family is enjoying a barbecue with their fellow campers when a cry is heard. Lindy r...   \n",
              "\n",
              "           movie_name  \\\n",
              "0          Taxi Blues   \n",
              "1    The Hunger Games   \n",
              "2          Narasimham   \n",
              "3  The Lemon Drop Kid   \n",
              "4   A Cry in the Dark   \n",
              "\n",
              "                                                                                                                                          genre  \\\n",
              "0                                                                                          {\"/m/07s9rl0\": \"Drama\", \"/m/03q4nz\": \"World cinema\"}   \n",
              "1                              {\"/m/03btsm8\": \"Action/Adventure\", \"/m/06n90\": \"Science Fiction\", \"/m/02kdv5l\": \"Action\", \"/m/07s9rl0\": \"Drama\"}   \n",
              "2                                               {\"/m/04t36\": \"Musical\", \"/m/02kdv5l\": \"Action\", \"/m/07s9rl0\": \"Drama\", \"/m/01chg\": \"Bollywood\"}   \n",
              "3                                                                                        {\"/m/06qm3\": \"Screwball comedy\", \"/m/01z4y\": \"Comedy\"}   \n",
              "4  {\"/m/0lsxr\": \"Crime Fiction\", \"/m/07s9rl0\": \"Drama\", \"/m/01f9r0\": \"Docudrama\", \"/m/03q4nz\": \"World cinema\", \"/m/05bh16v\": \"Courtroom Drama\"}   \n",
              "\n",
              "                                                          genre_new  \n",
              "0                                             [Drama, World cinema]  \n",
              "1                [Action/Adventure, Science Fiction, Action, Drama]  \n",
              "2                               [Musical, Action, Drama, Bollywood]  \n",
              "3                                        [Screwball comedy, Comedy]  \n",
              "4  [Crime Fiction, Drama, Docudrama, World cinema, Courtroom Drama]  "
            ]
          },
          "execution_count": 19,
          "metadata": {
            "tags": []
          },
          "output_type": "execute_result"
        }
      ],
      "source": [
        "movies_new.head()"
      ]
    },
    {
      "cell_type": "code",
      "execution_count": null,
      "metadata": {
        "colab": {
          "base_uri": "https://localhost:8080/",
          "height": 34
        },
        "id": "eceNopMGF2ve",
        "outputId": "03a0bbe3-7494-4c24-d0ed-b35eb559d1b8"
      },
      "outputs": [
        {
          "data": {
            "text/plain": [
              "363"
            ]
          },
          "execution_count": 20,
          "metadata": {
            "tags": []
          },
          "output_type": "execute_result"
        }
      ],
      "source": [
        "# get all genre tags in a list\n",
        "all_genres = sum(genres,[])\n",
        "len(set(all_genres))"
      ]
    },
    {
      "cell_type": "code",
      "execution_count": null,
      "metadata": {
        "id": "MXikclL-F2v1"
      },
      "outputs": [],
      "source": [
        "all_genres = nltk.FreqDist(all_genres)\n",
        "all_genres_df = pd.DataFrame({'Genre': list(all_genres.keys()), 'Count': list(all_genres.values())})"
      ]
    },
    {
      "cell_type": "code",
      "execution_count": null,
      "metadata": {
        "colab": {
          "base_uri": "https://localhost:8080/",
          "height": 881
        },
        "id": "ljJeSX0hF2v7",
        "outputId": "7efd77da-fde7-4ea3-f82b-a7dd495518a3"
      },
      "outputs": [
        {
          "data": {
            "image/png": "[encoded data removed]",
            "text/plain": [
              "<Figure size 864x1080 with 1 Axes>"
            ]
          },
          "metadata": {
            "tags": []
          },
          "output_type": "display_data"
        }
      ],
      "source": [
        "g = all_genres_df.nlargest(columns=\"Count\", n = 50)\n",
        "plt.figure(figsize=(12,15))\n",
        "ax = sns.barplot(data=g, x= \"Count\", y = \"Genre\")\n",
        "ax.set(ylabel = 'Count')\n",
        "plt.show()"
      ]
    },
    {
      "cell_type": "code",
      "execution_count": null,
      "metadata": {
        "id": "EkZHbKwlF2wa"
      },
      "outputs": [],
      "source": [
        "# function for text cleaning\n",
        "def clean_text(text):\n",
        "    # remove backslash-apostrophe\n",
        "    text = re.sub(\"\\'\", \"\", text)\n",
        "    # remove everything alphabets\n",
        "    text = re.sub(\"[^a-zA-Z]\",\" \",text)\n",
        "    # remove whitespaces\n",
        "    text = ' '.join(text.split())\n",
        "    # convert text to lowercase\n",
        "    text = text.lower()\n",
        "\n",
        "    return text"
      ]
    },
    {
      "cell_type": "code",
      "execution_count": null,
      "metadata": {
        "colab": {
          "base_uri": "https://localhost:8080/",
          "height": 335
        },
        "id": "Ndw6uH0YM3uf",
        "outputId": "e6f9c287-0783-4424-c65a-79c1f91e9f0c"
      },
      "outputs": [
        {
          "data": {
            "text/html": [
              "<div>\n",
              "<style scoped>\n",
              "    .dataframe tbody tr th:only-of-type {\n",
              "        vertical-align: middle;\n",
              "    }\n",
              "\n",
              "    .dataframe tbody tr th {\n",
              "        vertical-align: top;\n",
              "    }\n",
              "\n",
              "    .dataframe thead th {\n",
              "        text-align: right;\n",
              "    }\n",
              "</style>\n",
              "<table border=\"1\" class=\"dataframe\">\n",
              "  <thead>\n",
              "    <tr style=\"text-align: right;\">\n",
              "      <th></th>\n",
              "      <th>plot</th>\n",
              "      <th>clean_plot</th>\n",
              "    </tr>\n",
              "  </thead>\n",
              "  <tbody>\n",
              "    <tr>\n",
              "      <th>37021</th>\n",
              "      <td>The commercial towing spaceship Nostromo is on a return trip from Thedus to Earth, hauling a refinery and twenty million tons of mineral ore, and carrying its seven-member crew in stasis. Upon receiving a transmission of unknown origin from a nearby planetoid, the ship's computer awakens the cre...</td>\n",
              "      <td>the commercial towing spaceship nostromo is on a return trip from thedus to earth hauling a refinery and twenty million tons of mineral ore and carrying its seven member crew in stasis upon receiving a transmission of unknown origin from a nearby planetoid the ships computer awakens the crew in ...</td>\n",
              "    </tr>\n",
              "    <tr>\n",
              "      <th>33256</th>\n",
              "      <td>The film follows Laud Weiner, an oblivious, self-satisfied, and spoiled Hollywood manager-producer, as he explains his 'hard' work to the camera while in reality taking credit for other people's ideas and making everyone's life difficult.</td>\n",
              "      <td>the film follows laud weiner an oblivious self satisfied and spoiled hollywood manager producer as he explains his hard work to the camera while in reality taking credit for other peoples ideas and making everyones life difficult</td>\n",
              "    </tr>\n",
              "    <tr>\n",
              "      <th>31187</th>\n",
              "      <td>Ganesh  is an orphan who always pitches in to help needy people. In one such strange situation, he is forced to act with Divya  that he loves her. But later on, she comes to know that he is loving her to fulfill some other ambition and his love is an act of fabrication. By then, Ganesh genuinely...</td>\n",
              "      <td>ganesh is an orphan who always pitches in to help needy people in one such strange situation he is forced to act with divya that he loves her but later on she comes to know that he is loving her to fulfill some other ambition and his love is an act of fabrication by then ganesh genuinely falls i...</td>\n",
              "    </tr>\n",
              "  </tbody>\n",
              "</table>\n",
              "</div>"
            ],
            "text/plain": [
              "                                                                                                                                                                                                                                                                                                              plot  \\\n",
              "37021  The commercial towing spaceship Nostromo is on a return trip from Thedus to Earth, hauling a refinery and twenty million tons of mineral ore, and carrying its seven-member crew in stasis. Upon receiving a transmission of unknown origin from a nearby planetoid, the ship's computer awakens the cre...   \n",
              "33256                                                               The film follows Laud Weiner, an oblivious, self-satisfied, and spoiled Hollywood manager-producer, as he explains his 'hard' work to the camera while in reality taking credit for other people's ideas and making everyone's life difficult.   \n",
              "31187  Ganesh  is an orphan who always pitches in to help needy people. In one such strange situation, he is forced to act with Divya  that he loves her. But later on, she comes to know that he is loving her to fulfill some other ambition and his love is an act of fabrication. By then, Ganesh genuinely...   \n",
              "\n",
              "                                                                                                                                                                                                                                                                                                        clean_plot  \n",
              "37021  the commercial towing spaceship nostromo is on a return trip from thedus to earth hauling a refinery and twenty million tons of mineral ore and carrying its seven member crew in stasis upon receiving a transmission of unknown origin from a nearby planetoid the ships computer awakens the crew in ...  \n",
              "33256                                                                        the film follows laud weiner an oblivious self satisfied and spoiled hollywood manager producer as he explains his hard work to the camera while in reality taking credit for other peoples ideas and making everyones life difficult  \n",
              "31187  ganesh is an orphan who always pitches in to help needy people in one such strange situation he is forced to act with divya that he loves her but later on she comes to know that he is loving her to fulfill some other ambition and his love is an act of fabrication by then ganesh genuinely falls i...  "
            ]
          },
          "execution_count": 26,
          "metadata": {
            "tags": []
          },
          "output_type": "execute_result"
        }
      ],
      "source": [
        "movies_new[['plot', 'clean_plot']].sample(3)"
      ]
    },
    {
      "cell_type": "code",
      "execution_count": null,
      "metadata": {
        "id": "2xihIWUjF2wt"
      },
      "outputs": [],
      "source": [
        "def freq_words(x, terms = 30):\n",
        "  all_words = ' '.join([text for text in x])\n",
        "  all_words = all_words.split()\n",
        "\n",
        "  fdist = nltk.FreqDist(all_words)\n",
        "  words_df = pd.DataFrame({'word':list(fdist.keys()), 'count':list(fdist.values())})\n",
        "\n",
        "  # selecting top 20 most frequent words\n",
        "  d = words_df.nlargest(columns=\"count\", n = terms)\n",
        "  plt.figure(figsize=(12,15))\n",
        "  ax = sns.barplot(data=d, x= \"count\", y = \"word\")\n",
        "  ax.set(ylabel = 'Word')\n",
        "  plt.show()"
      ]
    },
    {
      "cell_type": "code",
      "execution_count": null,
      "metadata": {
        "colab": {
          "base_uri": "https://localhost:8080/",
          "height": 881
        },
        "id": "P2ZSrCVYF2w4",
        "outputId": "9f756479-7993-416b-fd4f-0bc52e730d96"
      },
      "outputs": [
        {
          "data": {
            "image/png": "[encoded data removed]",
            "text/plain": [
              "<Figure size 864x1080 with 1 Axes>"
            ]
          },
          "metadata": {
            "tags": []
          },
          "output_type": "display_data"
        }
      ],
      "source": [
        "# print 100 most frequent words\n",
        "freq_words(movies_new['clean_plot'], 100)"
      ]
    },
    {
      "cell_type": "code",
      "execution_count": null,
      "metadata": {
        "colab": {
          "base_uri": "https://localhost:8080/",
          "height": 69
        },
        "id": "kNHRpL7zOSmm",
        "outputId": "51b3377f-77ff-4f9b-e000-b8dd090db4b1"
      },
      "outputs": [
        {
          "name": "stdout",
          "output_type": "stream",
          "text": [
            "[nltk_data] Downloading package stopwords to /root/nltk_data...\n",
            "[nltk_data]   Unzipping corpora/stopwords.zip.\n"
          ]
        },
        {
          "data": {
            "text/plain": [
              "True"
            ]
          },
          "execution_count": 25,
          "metadata": {
            "tags": []
          },
          "output_type": "execute_result"
        }
      ],
      "source": [
        "nltk.download('stopwords')"
      ]
    },
    {
      "cell_type": "code",
      "execution_count": null,
      "metadata": {
        "id": "7_qWYlG9F2w8"
      },
      "outputs": [],
      "source": []
    },
    {
      "cell_type": "code",
      "execution_count": null,
      "metadata": {
        "id": "qljT-V5rF2xC"
      },
      "outputs": [],
      "source": [
        "from nltk.corpus import stopwords\n",
        "stop_words = set(stopwords.words('english'))\n",
        "\n",
        "# function to remove stopwords\n",
        "def remove_stopwords(text):\n",
        "    no_stopword_text = [w for w in text.split() if not w in stop_words]\n",
        "    return ' '.join(no_stopword_text)\n",
        "\n",
        "movies_new['clean_plot'] = movies_new['clean_plot'].apply(lambda x: remove_stopwords(x))"
      ]
    },
    {
      "cell_type": "code",
      "execution_count": null,
      "metadata": {
        "id": "9l3TjWUPF2xV"
      },
      "outputs": [],
      "source": [
        "from sklearn.preprocessing import MultiLabelBinarizer\n",
        "\n",
        "multilabel_binarizer = MultiLabelBinarizer()\n",
        "multilabel_binarizer.fit(movies_new['genre_new'])\n",
        "\n",
        "# transform target variable\n",
        "y = multilabel_binarizer.transform(movies_new['genre_new'])"
      ]
    },
    {
      "cell_type": "code",
      "execution_count": null,
      "metadata": {
        "id": "uV1pJhmiF2xd"
      },
      "outputs": [],
      "source": [
        "tfidf_vectorizer = TfidfVectorizer(max_df=0.8, max_features=10000)"
      ]
    },
    {
      "cell_type": "code",
      "execution_count": null,
      "metadata": {
        "id": "QLQpqZBYF2xw"
      },
      "outputs": [],
      "source": [
        "# split dataset into training and validation set\n",
        "xtrain, xval, ytrain, yval = train_test_split(movies_new['clean_plot'], y, test_size=0.2, random_state=9)"
      ]
    },
    {
      "cell_type": "code",
      "execution_count": null,
      "metadata": {
        "id": "yfAkXKJRF2x0"
      },
      "outputs": [],
      "source": [
        "# create TF-IDF features\n",
        "xtrain_tfidf = tfidf_vectorizer.fit_transform(xtrain)\n",
        "xval_tfidf = tfidf_vectorizer.transform(xval)"
      ]
    },
    {
      "cell_type": "code",
      "execution_count": null,
      "metadata": {
        "id": "QifsulBzF2x5"
      },
      "outputs": [],
      "source": [
        "from sklearn.linear_model import LogisticRegression\n",
        "\n",
        "# Binary Relevance\n",
        "from sklearn.multiclass import OneVsRestClassifier\n",
        "\n",
        "# Performance metric\n",
        "from sklearn.metrics import f1_score"
      ]
    },
    {
      "cell_type": "code",
      "execution_count": null,
      "metadata": {
        "id": "SMx1lAY6F2x8"
      },
      "outputs": [],
      "source": [
        "lr = LogisticRegression()\n",
        "clf = OneVsRestClassifier(lr)"
      ]
    },
    {
      "cell_type": "code",
      "execution_count": null,
      "metadata": {
        "colab": {
          "base_uri": "https://localhost:8080/",
          "height": 298
        },
        "id": "mlAzsg8OF2x-",
        "outputId": "a7b9908b-f6ab-44c1-82d7-7e0e0d4f0026"
      },
      "outputs": [
        {
          "name": "stderr",
          "output_type": "stream",
          "text": [
            "/usr/local/lib/python3.6/dist-packages/sklearn/linear_model/logistic.py:433: FutureWarning: Default solver will be changed to 'lbfgs' in 0.22. Specify a solver to silence this warning.\n",
            "  FutureWarning)\n",
            "/usr/local/lib/python3.6/dist-packages/sklearn/multiclass.py:76: UserWarning: Label not 48 is present in all training examples.\n",
            "  str(classes[c]))\n",
            "/usr/local/lib/python3.6/dist-packages/sklearn/multiclass.py:76: UserWarning: Label not 182 is present in all training examples.\n",
            "  str(classes[c]))\n",
            "/usr/local/lib/python3.6/dist-packages/sklearn/multiclass.py:76: UserWarning: Label not 214 is present in all training examples.\n",
            "  str(classes[c]))\n",
            "/usr/local/lib/python3.6/dist-packages/sklearn/multiclass.py:76: UserWarning: Label not 245 is present in all training examples.\n",
            "  str(classes[c]))\n"
          ]
        },
        {
          "data": {
            "text/plain": [
              "OneVsRestClassifier(estimator=LogisticRegression(C=1.0, class_weight=None, dual=False, fit_intercept=True,\n",
              "          intercept_scaling=1, max_iter=100, multi_class='warn',\n",
              "          n_jobs=None, penalty='l2', random_state=None, solver='warn',\n",
              "          tol=0.0001, verbose=0, warm_start=False),\n",
              "          n_jobs=None)"
            ]
          },
          "execution_count": 41,
          "metadata": {
            "tags": []
          },
          "output_type": "execute_result"
        }
      ],
      "source": [
        "# fit model on train data\n",
        "clf.fit(xtrain_tfidf, ytrain)"
      ]
    },
    {
      "cell_type": "code",
      "execution_count": null,
      "metadata": {
        "id": "JDgWCi2hF2yF"
      },
      "outputs": [],
      "source": [
        "# make predictions for validation set\n",
        "y_pred = clf.predict(xval_tfidf)"
      ]
    },
    {
      "cell_type": "code",
      "execution_count": null,
      "metadata": {
        "colab": {
          "base_uri": "https://localhost:8080/",
          "height": 312
        },
        "id": "Sj9l1s9yB4kR",
        "outputId": "74138cd0-9f22-49c7-8d2a-d1829bf0a3e9"
      },
      "outputs": [
        {
          "data": {
            "text/plain": [
              "array([0, 0, 1, 0, 0, 0, 0, 0, 0, 0, 0, 0, 0, 0, 0, 0, 0, 0, 0, 0, 0, 0,\n",
              "       0, 0, 0, 0, 0, 0, 0, 0, 0, 0, 0, 0, 0, 0, 0, 0, 0, 0, 0, 0, 0, 0,\n",
              "       0, 0, 0, 0, 0, 0, 0, 0, 0, 0, 0, 0, 0, 0, 0, 0, 0, 0, 0, 0, 0, 0,\n",
              "       0, 0, 0, 0, 0, 0, 0, 0, 0, 0, 0, 0, 0, 0, 0, 0, 0, 0, 0, 0, 0, 0,\n",
              "       0, 0, 0, 0, 0, 0, 0, 0, 0, 0, 0, 0, 0, 0, 0, 0, 0, 0, 0, 0, 0, 0,\n",
              "       0, 0, 0, 0, 1, 0, 0, 0, 0, 0, 0, 0, 0, 0, 0, 0, 0, 0, 0, 0, 0, 0,\n",
              "       0, 0, 0, 0, 0, 0, 0, 0, 0, 0, 0, 0, 0, 0, 0, 0, 0, 0, 0, 0, 0, 0,\n",
              "       0, 0, 0, 0, 0, 0, 0, 0, 0, 0, 0, 0, 0, 0, 0, 0, 0, 0, 0, 0, 0, 0,\n",
              "       0, 0, 0, 0, 0, 0, 0, 0, 0, 0, 0, 0, 0, 0, 0, 0, 0, 0, 0, 0, 0, 0,\n",
              "       0, 0, 0, 0, 0, 0, 0, 0, 0, 0, 0, 0, 0, 0, 0, 0, 0, 0, 0, 0, 0, 0,\n",
              "       0, 0, 0, 0, 0, 0, 0, 0, 0, 0, 0, 0, 0, 0, 0, 0, 0, 0, 0, 0, 0, 0,\n",
              "       0, 0, 0, 0, 0, 0, 0, 0, 0, 0, 0, 0, 0, 0, 0, 0, 0, 0, 0, 0, 0, 0,\n",
              "       0, 0, 0, 0, 0, 0, 0, 0, 0, 0, 0, 0, 0, 0, 0, 0, 0, 0, 0, 0, 0, 0,\n",
              "       0, 0, 0, 0, 0, 0, 0, 0, 0, 0, 0, 0, 0, 0, 0, 0, 0, 0, 0, 0, 0, 0,\n",
              "       0, 0, 0, 0, 0, 0, 0, 0, 0, 0, 0, 0, 0, 0, 0, 0, 0, 0, 0, 0, 0, 0,\n",
              "       0, 0, 0, 0, 0, 0, 0, 0, 0, 0, 0, 0, 0, 0, 0, 0, 0, 0, 0, 0, 0, 0,\n",
              "       0, 0, 0, 0, 0, 0, 0, 0, 0, 0, 0])"
            ]
          },
          "execution_count": 47,
          "metadata": {
            "tags": []
          },
          "output_type": "execute_result"
        }
      ],
      "source": [
        "y_pred[3]"
      ]
    },
    {
      "cell_type": "code",
      "execution_count": null,
      "metadata": {
        "colab": {
          "base_uri": "https://localhost:8080/",
          "height": 34
        },
        "id": "ivmaB8yJF2yI",
        "outputId": "18498cf1-79f7-4b5c-dd7a-889b8ca2b711"
      },
      "outputs": [
        {
          "data": {
            "text/plain": [
              "('Action', 'Drama')"
            ]
          },
          "execution_count": 49,
          "metadata": {
            "tags": []
          },
          "output_type": "execute_result"
        }
      ],
      "source": [
        "multilabel_binarizer.inverse_transform(y_pred)[3]"
      ]
    },
    {
      "cell_type": "code",
      "execution_count": null,
      "metadata": {
        "colab": {
          "base_uri": "https://localhost:8080/",
          "height": 34
        },
        "id": "ekSfgVp3F2yM",
        "outputId": "b24f59f3-1099-4b59-f2f8-946704603587"
      },
      "outputs": [
        {
          "data": {
            "text/plain": [
              "0.31539641943734015"
            ]
          },
          "execution_count": 50,
          "metadata": {
            "tags": []
          },
          "output_type": "execute_result"
        }
      ],
      "source": [
        "# evaluate performance\n",
        "f1_score(yval, y_pred, average=\"micro\")"
      ]
    },
    {
      "cell_type": "code",
      "execution_count": null,
      "metadata": {
        "id": "Im6QjRHKHPym"
      },
      "outputs": [],
      "source": [
        "# predict probabilities\n",
        "y_pred_prob = clf.predict_proba(xval_tfidf)"
      ]
    },
    {
      "cell_type": "code",
      "execution_count": null,
      "metadata": {
        "id": "UbFne8EVHaIY"
      },
      "outputs": [],
      "source": [
        "t = 0.3 # threshold value\n",
        "y_pred_new = (y_pred_prob >= t).astype(int)"
      ]
    },
    {
      "cell_type": "code",
      "execution_count": null,
      "metadata": {
        "colab": {
          "base_uri": "https://localhost:8080/",
          "height": 34
        },
        "id": "emACNSFUIMpy",
        "outputId": "c690fa57-a904-4d87-b5bd-7745118d9784"
      },
      "outputs": [
        {
          "data": {
            "text/plain": [
              "0.4378456703198025"
            ]
          },
          "execution_count": 56,
          "metadata": {
            "tags": []
          },
          "output_type": "execute_result"
        }
      ],
      "source": [
        "# evaluate performance\n",
        "f1_score(yval, y_pred_new, average=\"micro\")"
      ]
    },
    {
      "cell_type": "code",
      "execution_count": null,
      "metadata": {
        "id": "aU_nuhCHF2yQ"
      },
      "outputs": [],
      "source": [
        "def infer_tags(q):\n",
        "    q = clean_text(q)\n",
        "    q = remove_stopwords(q)\n",
        "    q_vec = tfidf_vectorizer.transform([q])\n",
        "    q_pred = clf.predict(q_vec)\n",
        "    return multilabel_binarizer.inverse_transform(q_pred)"
      ]
    },
    {
      "cell_type": "code",
      "execution_count": null,
      "metadata": {
        "colab": {
          "base_uri": "https://localhost:8080/",
          "height": 364
        },
        "id": "eMIcpA6BOjVh",
        "outputId": "b28a75cc-2691-459c-be91-1d80bdabc9ac"
      },
      "outputs": [
        {
          "name": "stdout",
          "output_type": "stream",
          "text": [
            "Movie:  The Other Me \n",
            "Predicted genre:  [('Comedy', 'Family Film')]\n",
            "Actual genre:  ['Family Film', 'Fantasy', 'Comedy'] \n",
            "\n",
            "Movie:  Paperman \n",
            "Predicted genre:  [()]\n",
            "Actual genre:  ['Short Film', 'Animation'] \n",
            "\n",
            "Movie:  Teheran 43 \n",
            "Predicted genre:  [('Drama',)]\n",
            "Actual genre:  ['Thriller', 'Crime Fiction', 'Drama', 'War film', 'Romance Film', 'Action'] \n",
            "\n",
            "Movie:  To Aru Hikūshi e no Tsuioku \n",
            "Predicted genre:  [()]\n",
            "Actual genre:  ['Anime'] \n",
            "\n",
            "Movie:  Half Human \n",
            "Predicted genre:  [('Horror',)]\n",
            "Actual genre:  ['Japanese Movies', 'Science Fiction', 'Horror', 'Creature Film'] \n",
            "\n"
          ]
        }
      ],
      "source": [
        "for i in range(5):\n",
        "    k = xval.sample(1).index[0]\n",
        "    print(\"Movie: \", movies_new['movie_name'][k], \"\\nPredicted genre: \", infer_tags(xval[k])), print(\"Actual genre: \",movies_new['genre_new'][k], \"\\n\")"
      ]
    }
  ],
  "metadata": {
    "colab": {
      "name": "Movie_Genre_Prediction.ipynb",
      "provenance": []
    },
    "kernelspec": {
      "display_name": "Python 3",
      "language": "python",
      "name": "python3"
    },
    "language_info": {
      "codemirror_mode": {
        "name": "ipython",
        "version": 3
      },
      "file_extension": ".py",
      "mimetype": "text/x-python",
      "name": "python",
      "nbconvert_exporter": "python",
      "pygments_lexer": "ipython3",
      "version": "3.6.7"
    }
  },
  "nbformat": 4,
  "nbformat_minor": 0
}
